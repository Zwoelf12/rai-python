{
 "cells": [
  {
   "cell_type": "code",
   "execution_count": 3,
   "id": "24be52ee",
   "metadata": {},
   "outputs": [
    {
     "name": "stdout",
     "output_type": "stream",
     "text": [
      "**ry-c++-log** /home/student/Desktop/KOMO/rai-python/rai/rai/ry/ry.cpp:init_LogToPythonConsole:34(0) initializing ry log callback** INFO:/home/student/Desktop/KOMO/rai-python/rai/rai/Core/util.cpp:initCmdLine:602(1) ** cmd line arguments: 'rai-pybind -python'\n",
      "** INFO:/home/student/Desktop/KOMO/rai-python/rai/rai/Core/util.cpp:initCmdLine:606(1) ** run path: '/home/student/Desktop/KOMO/rai-python/tutorials'\n",
      "** INFO:/home/student/Desktop/KOMO/rai-python/rai/rai/Core/graph.cpp:initParameters:1363(1) ** parsed parameters:\n",
      "{python,\n",
      "LGP/cameraFocus:[1, 0.5, 1],\n",
      "LGP/collisions:1,\n",
      "LGP/stopTime:300,\n",
      "LGP/stopSol:6,\n",
      "opt/maxStep:0.1}\n",
      "\n",
      "\n",
      "\n",
      "** INFO:/home/student/Desktop/KOMO/rai-python/rai/rai/ry/ry.cpp:init_LogToPythonConsole:34(0) initializing ry log callback\n"
     ]
    }
   ],
   "source": [
    "import sys\n",
    "sys.path.append('../build')\n",
    "import numpy as np\n",
    "import libry as ry"
   ]
  },
  {
   "cell_type": "code",
   "execution_count": 6,
   "id": "840662e7",
   "metadata": {},
   "outputs": [],
   "source": [
    "C = ry.Config()\n",
    "D = C.view()\n",
    "\n",
    "C.addFile('../tutorials/quadcopter.g')\n",
    "goal = C.addObject(name='goal', shape=ry.ST.ssBox, pos=[0, 0, 0], size=[.2, .2, .01, .002], color=[0., 1., 0.])"
   ]
  },
  {
   "cell_type": "code",
   "execution_count": 9,
   "id": "f0894ea9",
   "metadata": {},
   "outputs": [
    {
     "name": "stdout",
     "output_type": "stream",
     "text": [
      "** KOMO::run solver:sparse collisions:1 x-dim:700 T:100 k:2 phases:1 stepsPerPhase:100 tau:0.001  #timeSlices:102 #totalDOFs:700 #frames:612\n",
      "** optimization time:0.022348 (kin:0.000113 coll:0.000624 feat:0 newton: 0.000325) setJointStateCount:2\n",
      "   sos:3 ineq:0 eq:0\n"
     ]
    },
    {
     "data": {
      "text/plain": [
       "{'F_qItself/2-|base-quadCopter': {'order': 2.0,\n",
       "  'type': 'sos',\n",
       "  'sos': 1.1255363170648596e-06},\n",
       " 'F_PositionDiff/0-quadCopter-goal': {'order': 0.0, 'type': 'sos', 'sos': 3.0},\n",
       " 'F_Position/1-quadCopter': {'order': 1.0, 'type': 'ineq'},\n",
       " 'F_Position/2-quadCopter': {'order': 2.0, 'type': 'ineq'},\n",
       " 'sos': 3.000001125536317,\n",
       " 'ineq': 0.0,\n",
       " 'eq': 0.0,\n",
       " 'f': 0.0}"
      ]
     },
     "execution_count": 9,
     "metadata": {},
     "output_type": "execute_result"
    }
   ],
   "source": [
    "# set up optimization problem (path optimization)\n",
    "komo = C.komo_path(1.,100,.1, True);\n",
    "\n",
    "komo.addObjective(times=[1.], feature=ry.FS.positionDiff, frames=['quadCopter','goal'], type=ry.OT.sos, target=[0,0,0], scale=[1,1,1]);\n",
    "komo.addObjective(times=[], feature=ry.FS.position, frames= ['quadCopter'], type=ry.OT.ineq, order=1, target=[0.5,0.5,0.5]);\n",
    "komo.addObjective(times=[], feature=ry.FS.position, frames= ['quadCopter'], type=ry.OT.ineq, order=2, target=[2,2,2]);\n",
    "\n",
    "komo.optimize()\n",
    "komo.getReport()\n"
   ]
  },
  {
   "cell_type": "code",
   "execution_count": 12,
   "id": "030f650c",
   "metadata": {},
   "outputs": [
    {
     "data": {
      "text/plain": [
       "0"
      ]
     },
     "execution_count": 12,
     "metadata": {},
     "output_type": "execute_result"
    }
   ],
   "source": [
    "komo.view(False, \"my solution\")"
   ]
  },
  {
   "cell_type": "code",
   "execution_count": 13,
   "id": "b52c3bec",
   "metadata": {},
   "outputs": [
    {
     "data": {
      "text/plain": [
       "0"
      ]
     },
     "execution_count": 13,
     "metadata": {},
     "output_type": "execute_result"
    }
   ],
   "source": [
    "komo.view_play(False, .1)"
   ]
  },
  {
   "cell_type": "code",
   "execution_count": 8,
   "id": "ddf6d031",
   "metadata": {},
   "outputs": [
    {
     "name": "stdout",
     "output_type": "stream",
     "text": [
      "Help on Frame in module libry object:\n",
      "\n",
      "class Frame(pybind11_builtins.pybind11_object)\n",
      " |  Method resolution order:\n",
      " |      Frame\n",
      " |      pybind11_builtins.pybind11_object\n",
      " |      builtins.object\n",
      " |  \n",
      " |  Methods defined here:\n",
      " |  \n",
      " |  __init__(self, /, *args, **kwargs)\n",
      " |      Initialize self.  See help(type(self)) for accurate signature.\n",
      " |  \n",
      " |  addAttribute(...)\n",
      " |      addAttribute(self: libry.Frame, arg0: str, arg1: float) -> None\n",
      " |  \n",
      " |  getJointState(...)\n",
      " |      getJointState(self: libry.Frame) -> numpy.ndarray[float64]\n",
      " |  \n",
      " |  getMeshPoints(...)\n",
      " |      getMeshPoints(self: libry.Frame) -> rai::Array<T>\n",
      " |  \n",
      " |  getMeshTriangles(...)\n",
      " |      getMeshTriangles(self: libry.Frame) -> rai::Array<T>\n",
      " |  \n",
      " |  getName(...)\n",
      " |      getName(self: libry.Frame) -> str\n",
      " |  \n",
      " |  getPosition(...)\n",
      " |      getPosition(self: libry.Frame) -> numpy.ndarray[float64]\n",
      " |  \n",
      " |  getQuaternion(...)\n",
      " |      getQuaternion(self: libry.Frame) -> numpy.ndarray[float64]\n",
      " |  \n",
      " |  getRelativePosition(...)\n",
      " |      getRelativePosition(self: libry.Frame) -> numpy.ndarray[float64]\n",
      " |  \n",
      " |  getRelativeQuaternion(...)\n",
      " |      getRelativeQuaternion(self: libry.Frame) -> numpy.ndarray[float64]\n",
      " |  \n",
      " |  getRotationMatrix(...)\n",
      " |      getRotationMatrix(self: libry.Frame) -> numpy.ndarray[float64]\n",
      " |  \n",
      " |  getSize(...)\n",
      " |      getSize(self: libry.Frame) -> numpy.ndarray[float64]\n",
      " |  \n",
      " |  info(...)\n",
      " |      info(self: libry.Frame) -> dict\n",
      " |  \n",
      " |  setColor(...)\n",
      " |      setColor(self: libry.Frame, arg0: List[float]) -> None\n",
      " |  \n",
      " |  setContact(...)\n",
      " |      setContact(self: libry.Frame, arg0: int) -> None\n",
      " |  \n",
      " |  setJoint(...)\n",
      " |      setJoint(self: libry.Frame, arg0: rai::JointType) -> None\n",
      " |  \n",
      " |  setJointState(...)\n",
      " |      setJointState(self: libry.Frame, arg0: List[float]) -> None\n",
      " |  \n",
      " |  setMass(...)\n",
      " |      setMass(self: libry.Frame, arg0: float) -> None\n",
      " |  \n",
      " |  setMeshAsLines(...)\n",
      " |      setMeshAsLines(self: libry.Frame, arg0: List[float]) -> None\n",
      " |  \n",
      " |  setPointCloud(...)\n",
      " |      setPointCloud(self: libry.Frame, arg0: array, arg1: numpy.ndarray[uint8]) -> None\n",
      " |  \n",
      " |  setPose(...)\n",
      " |      setPose(self: libry.Frame, arg0: str) -> None\n",
      " |  \n",
      " |  setPosition(...)\n",
      " |      setPosition(self: libry.Frame, arg0: List[float]) -> None\n",
      " |  \n",
      " |  setQuaternion(...)\n",
      " |      setQuaternion(self: libry.Frame, arg0: List[float]) -> None\n",
      " |  \n",
      " |  setRelativePose(...)\n",
      " |      setRelativePose(self: libry.Frame, arg0: str) -> None\n",
      " |  \n",
      " |  setRelativePosition(...)\n",
      " |      setRelativePosition(self: libry.Frame, arg0: List[float]) -> None\n",
      " |  \n",
      " |  setRelativeQuaternion(...)\n",
      " |      setRelativeQuaternion(self: libry.Frame, arg0: List[float]) -> None\n",
      " |  \n",
      " |  setShape(...)\n",
      " |      setShape(self: libry.Frame, type: libry.ST, size: List[float]) -> None\n",
      " |  \n",
      " |  ----------------------------------------------------------------------\n",
      " |  Static methods inherited from pybind11_builtins.pybind11_object:\n",
      " |  \n",
      " |  __new__(*args, **kwargs) from pybind11_builtins.pybind11_type\n",
      " |      Create and return a new object.  See help(type) for accurate signature.\n",
      "\n"
     ]
    }
   ],
   "source": [
    "\n",
    "help(QC)"
   ]
  },
  {
   "cell_type": "code",
   "execution_count": null,
   "id": "4878f7e7",
   "metadata": {},
   "outputs": [],
   "source": []
  }
 ],
 "metadata": {
  "kernelspec": {
   "display_name": "Python 3 (ipykernel)",
   "language": "python",
   "name": "python3"
  },
  "language_info": {
   "codemirror_mode": {
    "name": "ipython",
    "version": 3
   },
   "file_extension": ".py",
   "mimetype": "text/x-python",
   "name": "python",
   "nbconvert_exporter": "python",
   "pygments_lexer": "ipython3",
   "version": "3.8.10"
  }
 },
 "nbformat": 4,
 "nbformat_minor": 5
}
