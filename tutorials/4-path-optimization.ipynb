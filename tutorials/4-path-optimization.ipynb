{
 "cells": [
  {
   "cell_type": "markdown",
   "metadata": {},
   "source": [
    "# Path Optimization (KOMO)\n",
    "\n"
   ]
  },
  {
   "cell_type": "markdown",
   "metadata": {},
   "source": [
    "Let's setup a standard configuration. (Lock the window with \"Always on Top\".)"
   ]
  },
  {
   "cell_type": "code",
   "execution_count": 1,
   "metadata": {},
   "outputs": [
    {
     "name": "stdout",
     "output_type": "stream",
     "text": [
      "**ry-c++-log** /home/student/Desktop/KOMO/rai-python/rai/rai/ry/ry.cpp:init_LogToPythonConsole:34(0) initializing ry log callback** INFO:/home/student/Desktop/KOMO/rai-python/rai/rai/Core/util.cpp:initCmdLine:602(1) ** cmd line arguments: 'rai-pybind -python'\n",
      "** INFO:/home/student/Desktop/KOMO/rai-python/rai/rai/Core/util.cpp:initCmdLine:606(1) ** run path: '/home/student/Desktop/KOMO/rai-python/tutorials'\n",
      "** INFO:/home/student/Desktop/KOMO/rai-python/rai/rai/Core/graph.cpp:initParameters:1363(1) ** parsed parameters:\n",
      "{python,\n",
      "LGP/cameraFocus:[1, 0.5, 1],\n",
      "LGP/collisions:1,\n",
      "LGP/stopTime:300,\n",
      "LGP/stopSol:6,\n",
      "opt/maxStep:0.1}\n",
      "\n",
      "\n",
      "\n",
      "** INFO:/home/student/Desktop/KOMO/rai-python/rai/rai/ry/ry.cpp:init_LogToPythonConsole:34(0) initializing ry log callback\n"
     ]
    }
   ],
   "source": [
    "import sys\n",
    "sys.path.append('../build')\n",
    "import numpy as np\n",
    "import libry as ry\n",
    "\n",
    "C = ry.Config()\n",
    "D = C.view()\n",
    "C.addFile('../rai-robotModels/pr2/pr2.g')\n",
    "C.addFile('../rai-robotModels/objects/kitchen.g')"
   ]
  },
  {
   "cell_type": "markdown",
   "metadata": {},
   "source": [
    "Let's add some objects"
   ]
  },
  {
   "cell_type": "code",
   "execution_count": 2,
   "metadata": {},
   "outputs": [
    {
     "data": {
      "text/plain": [
       "<libry.Frame at 0x7f45e74cd3b0>"
      ]
     },
     "execution_count": 2,
     "metadata": {},
     "output_type": "execute_result"
    }
   ],
   "source": [
    "C.addObject(name='item1', parent='sink1', shape=ry.ST.ssBox, pos=[-.1, -.1, .52], size=[.1, .1, .25, .02], color=[1., 0., 0.])\n",
    "C.addObject('item2', 'sink1', ry.ST.ssBox, [.1, .1, .25, .02], [1., 1., 0.], [.1, .1, .52])\n",
    "C.addObject('tray', 'stove1', ry.ST.ssBox, [.2, .2, .05, .02], [0., 1., 0.], [.0, .0, .42])"
   ]
  },
  {
   "cell_type": "markdown",
   "metadata": {},
   "source": [
    "compute a collision free path to touch object item1 with pr2L:"
   ]
  },
  {
   "cell_type": "code",
   "execution_count": 3,
   "metadata": {},
   "outputs": [
    {
     "name": "stdout",
     "output_type": "stream",
     "text": [
      "** KOMO::run solver:sparse collisions:1 x-dim:500 T:20 k:2 phases:1 stepsPerPhase:20 tau:0.5  #timeSlices:22 #totalDOFs:500 #frames:3982\n",
      "** optimization time:0.870327 (kin:0.049528 coll:0.390456 feat:0 newton: 0.040159) setJointStateCount:182\n",
      "   sos:5.13327 ineq:14.5443 eq:0.589962\n"
     ]
    },
    {
     "data": {
      "text/plain": [
       "{'F_qItself/2-#46': {'order': 2.0, 'type': 'sos', 'sos': 3.9656193830111093},\n",
       " 'F_AccumulatedCollisions/0-#181': {'order': 0.0,\n",
       "  'type': 'eq',\n",
       "  'eq': 0.04248971122673281},\n",
       " 'F_qLimits2/0-#181': {'order': 0.0,\n",
       "  'type': 'ineq',\n",
       "  'ineq': 14.544263306657774},\n",
       " 'F_PairCollision/0-pr2R-item1': {'order': 0.0,\n",
       "  'type': 'eq',\n",
       "  'eq': 0.013470021063851853},\n",
       " 'F_PositionDiff/0-endeffWorkspace-item1': {'order': 0.0,\n",
       "  'type': 'sos',\n",
       "  'sos': 1.1676555129913653},\n",
       " 'F_qItself/1-#58': {'order': 1.0, 'type': 'eq', 'eq': 0.5340021346053395},\n",
       " 'sos': 5.133274896002474,\n",
       " 'ineq': 14.544263306657774,\n",
       " 'eq': 0.5899618668959242,\n",
       " 'f': 0.0}"
      ]
     },
     "execution_count": 3,
     "metadata": {},
     "output_type": "execute_result"
    }
   ],
   "source": [
    "X0 = C.getFrameState()\n",
    "\n",
    "obj1 = \"item1\";\n",
    "arm = \"pr2R\";\n",
    "\n",
    "komo = C.komo_path(1.,20, 10., True);\n",
    "\n",
    "komo.addObjective([], ry.FS.accumulatedCollisions, [], ry.OT.eq);\n",
    "komo.addObjective([], ry.FS.jointLimits, [], ry.OT.ineq);\n",
    "komo.addObjective([1.], ry.FS.distance, [arm, obj1], ry.OT.eq, [1e2]);\n",
    "komo.addObjective([.9,1.], ry.FS.positionDiff, [\"endeffWorkspace\", obj1], ry.OT.sos, [1e0]);\n",
    "komo.addObjective(times=[1.], feature=ry.FS.qItself, type=ry.OT.eq, order=1);\n",
    "\n",
    "komo.optimize()\n",
    "komo.getReport()"
   ]
  },
  {
   "cell_type": "code",
   "execution_count": 4,
   "metadata": {},
   "outputs": [
    {
     "data": {
      "text/plain": [
       "0"
      ]
     },
     "execution_count": 4,
     "metadata": {},
     "output_type": "execute_result"
    }
   ],
   "source": [
    "komo.view(False, \"my solution\")"
   ]
  },
  {
   "cell_type": "code",
   "execution_count": 27,
   "metadata": {},
   "outputs": [
    {
     "data": {
      "text/plain": [
       "0"
      ]
     },
     "execution_count": 27,
     "metadata": {},
     "output_type": "execute_result"
    }
   ],
   "source": [
    "komo.view_play(False, .1)"
   ]
  },
  {
   "cell_type": "markdown",
   "metadata": {},
   "source": [
    "Best way to read out: grab a configuration into K and analyze it here:"
   ]
  },
  {
   "cell_type": "code",
   "execution_count": 19,
   "metadata": {},
   "outputs": [
    {
     "data": {
      "text/plain": [
       "array([-3.46070243e-01,  1.23112450e+00,  1.09339417e+00,  1.00016628e-01,\n",
       "        1.08968567e-02, -1.95500178e-03,  2.53346248e-01,  1.21927441e+00,\n",
       "        4.04336204e-01,  2.73031621e-01,  4.12601920e-01, -1.21375791e+00,\n",
       "        9.51548379e-01, -1.30835013e+00, -2.10521793e+00, -1.72767727e-05,\n",
       "       -1.69771612e-04, -1.19795831e-01, -5.01954238e-01,  2.56082928e-04,\n",
       "       -4.79415870e-05,  9.82390423e-02,  9.95570671e-02,  6.32261118e-03,\n",
       "        2.05960834e-02])"
      ]
     },
     "execution_count": 19,
     "metadata": {},
     "output_type": "execute_result"
    }
   ],
   "source": [
    "C.setFrameState( komo.getFrameState(19) )\n",
    "C.getJointState()"
   ]
  },
  {
   "cell_type": "code",
   "execution_count": null,
   "metadata": {},
   "outputs": [],
   "source": []
  },
  {
   "cell_type": "code",
   "execution_count": null,
   "metadata": {},
   "outputs": [],
   "source": []
  }
 ],
 "metadata": {
  "kernelspec": {
   "display_name": "Python 3 (ipykernel)",
   "language": "python",
   "name": "python3"
  },
  "language_info": {
   "codemirror_mode": {
    "name": "ipython",
    "version": 3
   },
   "file_extension": ".py",
   "mimetype": "text/x-python",
   "name": "python",
   "nbconvert_exporter": "python",
   "pygments_lexer": "ipython3",
   "version": "3.8.10"
  }
 },
 "nbformat": 4,
 "nbformat_minor": 2
}
