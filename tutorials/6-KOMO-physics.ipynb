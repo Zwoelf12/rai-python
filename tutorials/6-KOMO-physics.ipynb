{
 "cells": [
  {
   "cell_type": "code",
   "execution_count": 1,
   "metadata": {},
   "outputs": [
    {
     "name": "stdout",
     "output_type": "stream",
     "text": [
      "**ry-c++-log** /home/student/Desktop/KOMO/rai-python/rai/rai/ry/ry.cpp:init_LogToPythonConsole:34(0) initializing ry log callback** INFO:/home/student/Desktop/KOMO/rai-python/rai/rai/Core/util.cpp:initCmdLine:602(1) ** cmd line arguments: 'rai-pybind -python'\n",
      "** INFO:/home/student/Desktop/KOMO/rai-python/rai/rai/Core/util.cpp:initCmdLine:606(1) ** run path: '/home/student/Desktop/KOMO/rai-python/tutorials'\n",
      "** INFO:/home/student/Desktop/KOMO/rai-python/rai/rai/Core/graph.cpp:initParameters:1363(1) ** parsed parameters:\n",
      "{python,\n",
      "LGP/cameraFocus:[1, 0.5, 1],\n",
      "LGP/collisions:1,\n",
      "LGP/stopTime:300,\n",
      "LGP/stopSol:6,\n",
      "opt/maxStep:0.1}\n",
      "\n",
      "\n",
      "\n",
      "** INFO:/home/student/Desktop/KOMO/rai-python/rai/rai/ry/ry.cpp:init_LogToPythonConsole:34(0) initializing ry log callback\n"
     ]
    }
   ],
   "source": [
    "import sys\n",
    "sys.path.append('../build')\n",
    "import numpy as np\n",
    "import libry as ry"
   ]
  },
  {
   "cell_type": "code",
   "execution_count": 2,
   "metadata": {},
   "outputs": [
    {
     "data": {
      "text/plain": [
       "['base',\n",
       " 'box',\n",
       " 'boxBo',\n",
       " 'boxLe',\n",
       " 'boxBa',\n",
       " 'ballR',\n",
       " 'block',\n",
       " 'target',\n",
       " 'boxBa>target']"
      ]
     },
     "execution_count": 2,
     "metadata": {},
     "output_type": "execute_result"
    }
   ],
   "source": [
    "# load and display a configuration\n",
    "C = ry.Config()\n",
    "C.addFile('../test/retired/boxProblem.g')\n",
    "D = C.view()\n",
    "C.getFrameNames()"
   ]
  },
  {
   "cell_type": "code",
   "execution_count": 5,
   "metadata": {},
   "outputs": [],
   "source": [
    "# create a standard path optimization problem with 4 phases, each of .2 seconds, and 10 steps\n",
    "komo = C.komo_path(5., 10, .2, False)"
   ]
  },
  {
   "cell_type": "code",
   "execution_count": 6,
   "metadata": {},
   "outputs": [],
   "source": [
    "# create tau-DOFs (time intervals) in the optimization problem and add respective constraints\n",
    "komo.addTimeOptimization()"
   ]
  },
  {
   "cell_type": "code",
   "execution_count": 7,
   "metadata": {},
   "outputs": [
    {
     "ename": "AttributeError",
     "evalue": "'libry.KOMO' object has no attribute 'makeObjectsFree'",
     "output_type": "error",
     "traceback": [
      "\u001b[0;31m---------------------------------------------------------------------------\u001b[0m",
      "\u001b[0;31mAttributeError\u001b[0m                            Traceback (most recent call last)",
      "\u001b[0;32m/tmp/ipykernel_3156/3374905891.py\u001b[0m in \u001b[0;36m<module>\u001b[0;34m\u001b[0m\n\u001b[1;32m      3\u001b[0m \u001b[0mobj\u001b[0m \u001b[0;34m=\u001b[0m \u001b[0;34m'ballR'\u001b[0m\u001b[0;34m\u001b[0m\u001b[0;34m\u001b[0m\u001b[0m\n\u001b[1;32m      4\u001b[0m \u001b[0;31m#komo.addSwitch_magic(.0, 'base', obj)\u001b[0m\u001b[0;34m\u001b[0m\u001b[0;34m\u001b[0m\u001b[0;34m\u001b[0m\u001b[0m\n\u001b[0;32m----> 5\u001b[0;31m \u001b[0mkomo\u001b[0m\u001b[0;34m.\u001b[0m\u001b[0mmakeObjectsFree\u001b[0m\u001b[0;34m(\u001b[0m\u001b[0;34m[\u001b[0m\u001b[0;34m\"ballR\"\u001b[0m\u001b[0;34m]\u001b[0m\u001b[0;34m)\u001b[0m\u001b[0;34m;\u001b[0m\u001b[0;34m\u001b[0m\u001b[0;34m\u001b[0m\u001b[0m\n\u001b[0m",
      "\u001b[0;31mAttributeError\u001b[0m: 'libry.KOMO' object has no attribute 'makeObjectsFree'"
     ]
    }
   ],
   "source": [
    "# take one object, and first 'switch' it to become freely movable without costs,\n",
    "# then, starting at phase .7, make it dynamic (imposing NE equations)\n",
    "obj = 'ballR'\n",
    "#komo.addSwitch_magic(.0, 'base', obj)\n",
    "komo.makeObjectsFree([\"ballR\"]);"
   ]
  },
  {
   "cell_type": "code",
   "execution_count": null,
   "metadata": {},
   "outputs": [],
   "source": [
    "# (old) a way to constrain the object position to be 'before' the box before phase 0.2\n",
    "#komo.addObjective(time=[0., .2], type=OT.ineq, feature=FS.position, frames=[obj], scaleTrans=[[0.,1.,0.]], target=[1.])"
   ]
  },
  {
   "cell_type": "code",
   "execution_count": null,
   "metadata": {},
   "outputs": [],
   "source": [
    "# objectives for collision (permanent) and target (at phase-time 4.)\n",
    "komo.addObjective(type=ry.OT.sos, feature=ry.FS.accumulatedCollisions)\n",
    "komo.addObjective(time=[5.], type=ry.OT.eq, feature=ry.FS.distance, frames=['target', obj], scale=[3e1])"
   ]
  },
  {
   "cell_type": "code",
   "execution_count": 8,
   "metadata": {},
   "outputs": [
    {
     "name": "stdout",
     "output_type": "stream",
     "text": [
      "**ry-c++-log** /home/student/Desktop/KOMO/rai-python/rai/rai/KOMO/komo.cpp:addSwitch_dynamicTrans:337(-2) deprecated\n",
      "\n",
      "STACK9 /usr/bin/python3(PyEval_EvalCode\n",
      "STACK8 /usr/bin/python3(_PyEval_EvalCodeWithName\n",
      "STACK7 /usr/bin/python3(_PyEval_EvalFrameDefault\n",
      "STACK6 /usr/bin/python3() [0x50b4c7]\n",
      "STACK5 /usr/bin/python3(_PyObject_MakeTpCall\n",
      "STACK4 /usr/bin/python3(PyCFunction_Call\n",
      "STACK3 /home/student/Desktop/KOMO/rai-python/tutorials/../build/libry.cpython-38-x86_64-linux-gnu.so(+0xb433b) [0x7effb7f0c33b]\n",
      "STACK2 /home/student/Desktop/KOMO/rai-python/tutorials/../build/libry.cpython-38-x86_64-linux-gnu.so(+0x6bac5) [0x7effb7ec3ac5]\n",
      "STACK1 KOMO::addSwitch_dynamicTrans(double, double, char const*, char const*)\n",
      "STACK0 rai::LogToken::~LogToken()\n"
     ]
    },
    {
     "name": "stderr",
     "output_type": "stream",
     "text": [
      "** ERROR:/home/student/Desktop/KOMO/rai-python/rai/rai/KOMO/komo.cpp:addSwitch_dynamicTrans:337(-2) deprecated\n"
     ]
    },
    {
     "ename": "RuntimeError",
     "evalue": "/home/student/Desktop/KOMO/rai-python/rai/rai/KOMO/komo.cpp:addSwitch_dynamicTrans:337(-2) deprecated",
     "output_type": "error",
     "traceback": [
      "\u001b[0;31m---------------------------------------------------------------------------\u001b[0m",
      "\u001b[0;31mRuntimeError\u001b[0m                              Traceback (most recent call last)",
      "\u001b[0;32m/tmp/ipykernel_3156/4278654867.py\u001b[0m in \u001b[0;36m<module>\u001b[0;34m\u001b[0m\n\u001b[1;32m      1\u001b[0m \u001b[0;31m# simple structure of this solution: bounce on the bottom of the box at times 1, 2, and 3\u001b[0m\u001b[0;34m\u001b[0m\u001b[0;34m\u001b[0m\u001b[0;34m\u001b[0m\u001b[0m\n\u001b[0;32m----> 2\u001b[0;31m \u001b[0mkomo\u001b[0m\u001b[0;34m.\u001b[0m\u001b[0maddSwitch_dynamicTrans\u001b[0m\u001b[0;34m(\u001b[0m\u001b[0;36m1.\u001b[0m\u001b[0;34m,\u001b[0m \u001b[0;34m-\u001b[0m\u001b[0;36m1.\u001b[0m\u001b[0;34m,\u001b[0m \u001b[0;34m'base'\u001b[0m\u001b[0;34m,\u001b[0m \u001b[0mobj\u001b[0m\u001b[0;34m)\u001b[0m\u001b[0;34m\u001b[0m\u001b[0;34m\u001b[0m\u001b[0m\n\u001b[0m\u001b[1;32m      3\u001b[0m \u001b[0mkomo\u001b[0m\u001b[0;34m.\u001b[0m\u001b[0maddInteraction_elasticBounce\u001b[0m\u001b[0;34m(\u001b[0m\u001b[0;36m2.\u001b[0m\u001b[0;34m,\u001b[0m \u001b[0;34m\"boxBo\"\u001b[0m\u001b[0;34m,\u001b[0m \u001b[0mobj\u001b[0m\u001b[0;34m,\u001b[0m \u001b[0;36m.8\u001b[0m\u001b[0;34m)\u001b[0m\u001b[0;34m\u001b[0m\u001b[0;34m\u001b[0m\u001b[0m\n\u001b[1;32m      4\u001b[0m \u001b[0mkomo\u001b[0m\u001b[0;34m.\u001b[0m\u001b[0maddInteraction_elasticBounce\u001b[0m\u001b[0;34m(\u001b[0m\u001b[0;36m3.\u001b[0m\u001b[0;34m,\u001b[0m \u001b[0;34m\"boxBo\"\u001b[0m\u001b[0;34m,\u001b[0m \u001b[0mobj\u001b[0m\u001b[0;34m,\u001b[0m \u001b[0;36m.8\u001b[0m\u001b[0;34m)\u001b[0m\u001b[0;34m\u001b[0m\u001b[0;34m\u001b[0m\u001b[0m\n\u001b[1;32m      5\u001b[0m \u001b[0mkomo\u001b[0m\u001b[0;34m.\u001b[0m\u001b[0maddInteraction_elasticBounce\u001b[0m\u001b[0;34m(\u001b[0m\u001b[0;36m4.\u001b[0m\u001b[0;34m,\u001b[0m \u001b[0;34m\"boxBo\"\u001b[0m\u001b[0;34m,\u001b[0m \u001b[0mobj\u001b[0m\u001b[0;34m,\u001b[0m \u001b[0;36m.8\u001b[0m\u001b[0;34m)\u001b[0m\u001b[0;34m\u001b[0m\u001b[0;34m\u001b[0m\u001b[0m\n",
      "\u001b[0;31mRuntimeError\u001b[0m: /home/student/Desktop/KOMO/rai-python/rai/rai/KOMO/komo.cpp:addSwitch_dynamicTrans:337(-2) deprecated"
     ]
    }
   ],
   "source": [
    "# simple structure of this solution: bounce on the bottom of the box at times 1, 2, and 3\n",
    "komo.addSwitch_dynamicTrans(1., -1., 'base', obj)\n",
    "komo.addInteraction_elasticBounce(2., \"boxBo\", obj, .8)\n",
    "komo.addInteraction_elasticBounce(3., \"boxBo\", obj, .8)\n",
    "komo.addInteraction_elasticBounce(4., \"boxBo\", obj, .8)"
   ]
  },
  {
   "cell_type": "code",
   "execution_count": null,
   "metadata": {},
   "outputs": [],
   "source": [
    "komo.optimize(True)"
   ]
  },
  {
   "cell_type": "code",
   "execution_count": null,
   "metadata": {},
   "outputs": [],
   "source": [
    "komoView = komo.view()"
   ]
  },
  {
   "cell_type": "code",
   "execution_count": null,
   "metadata": {},
   "outputs": [],
   "source": [
    "komo.display()"
   ]
  },
  {
   "cell_type": "code",
   "execution_count": null,
   "metadata": {},
   "outputs": [],
   "source": [
    "# read out solution: the full frame path, the tau path (time optimization), list of interaction forces\n",
    "obj_path = komo.getPathFrames([obj])\n",
    "tau_path = komo.getPathTau()\n",
    "forces = komo.getForceInteractions()\n",
    "forces"
   ]
  },
  {
   "cell_type": "markdown",
   "metadata": {},
   "source": [
    "Conversion from steps to phase and time:\n",
    "```\n",
    "phase=0 is the FIXED initial configuration and corresponds to step=-1\n",
    "step=0 is the first configuration s.t. optimization\n",
    "\\tau(s) gives the time between step s-1 and step s\n",
    "phase(step s) = (s+1)/stepsPerPhase\n",
    "time(step s) = sum i=0:s tau(i)\n",
    "```"
   ]
  },
  {
   "cell_type": "code",
   "execution_count": null,
   "metadata": {},
   "outputs": [],
   "source": [
    "D=0\n",
    "komoView=0\n",
    "komo=0\n",
    "C=0"
   ]
  },
  {
   "cell_type": "code",
   "execution_count": null,
   "metadata": {},
   "outputs": [],
   "source": []
  }
 ],
 "metadata": {
  "kernelspec": {
   "display_name": "Python 3 (ipykernel)",
   "language": "python",
   "name": "python3"
  },
  "language_info": {
   "codemirror_mode": {
    "name": "ipython",
    "version": 3
   },
   "file_extension": ".py",
   "mimetype": "text/x-python",
   "name": "python",
   "nbconvert_exporter": "python",
   "pygments_lexer": "ipython3",
   "version": "3.8.10"
  }
 },
 "nbformat": 4,
 "nbformat_minor": 2
}
