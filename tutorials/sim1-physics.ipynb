{
 "cells": [
  {
   "cell_type": "code",
   "execution_count": 1,
   "metadata": {},
   "outputs": [
    {
     "name": "stdout",
     "output_type": "stream",
     "text": [
      "**ry-c++-log** /home/student/Desktop/KOMO/rai-python/rai/rai/ry/ry.cpp:init_LogToPythonConsole:34(0) initializing ry log callback** INFO:/home/student/Desktop/KOMO/rai-python/rai/rai/Core/util.cpp:initCmdLine:602(1) ** cmd line arguments: 'rai-pybind -python'\n",
      "** INFO:/home/student/Desktop/KOMO/rai-python/rai/rai/Core/util.cpp:initCmdLine:606(1) ** run path: '/home/student/Desktop/KOMO/rai-python/tutorials'\n",
      "** INFO:/home/student/Desktop/KOMO/rai-python/rai/rai/Core/graph.cpp:initParameters:1363(1) ** parsed parameters:\n",
      "{python,\n",
      "LGP/cameraFocus:[1, 0.5, 1],\n",
      "LGP/collisions:1,\n",
      "LGP/stopTime:300,\n",
      "LGP/stopSol:6,\n",
      "opt/maxStep:0.1}\n",
      "\n",
      "\n",
      "\n",
      "** INFO:/home/student/Desktop/KOMO/rai-python/rai/rai/ry/ry.cpp:init_LogToPythonConsole:34(0) initializing ry log callback\n"
     ]
    }
   ],
   "source": [
    "import sys\n",
    "sys.path.append('../build')\n",
    "import numpy as np\n",
    "import libry as ry\n",
    "from time import sleep"
   ]
  },
  {
   "cell_type": "code",
   "execution_count": 2,
   "metadata": {},
   "outputs": [],
   "source": [
    "C = ry.Config()\n",
    "D = C.view()"
   ]
  },
  {
   "cell_type": "code",
   "execution_count": 3,
   "metadata": {},
   "outputs": [
    {
     "data": {
      "text/plain": [
       "<libry.Frame at 0x7fc63f102a70>"
      ]
     },
     "execution_count": 3,
     "metadata": {},
     "output_type": "execute_result"
    }
   ],
   "source": [
    "C.addFrame('world')\n",
    "block = C.addObject(name='block', shape=ry.ST.ssBox, size=[.2,.3,.5,.02], pos=[.0,.0,.5], color=[1,0,0])\n",
    "block.setMass(1.);\n",
    "C.addObject('finger', shape=ry.ST.ssBox, size=[.3, .1, .1, .02], color=[1.,1.,1.,.3], parent='world', pos=[1., 0., .45])"
   ]
  },
  {
   "cell_type": "code",
   "execution_count": 4,
   "metadata": {},
   "outputs": [
    {
     "ename": "AttributeError",
     "evalue": "'libry.Config' object has no attribute 'bullet'",
     "output_type": "error",
     "traceback": [
      "\u001b[0;31m---------------------------------------------------------------------------\u001b[0m",
      "\u001b[0;31mAttributeError\u001b[0m                            Traceback (most recent call last)",
      "\u001b[0;32m/tmp/ipykernel_3570/2546301571.py\u001b[0m in \u001b[0;36m<module>\u001b[0;34m\u001b[0m\n\u001b[1;32m      1\u001b[0m \u001b[0;31m# this fails, if the lib was not compiled with bullet (comment #BULLET=0 in config.mk)\u001b[0m\u001b[0;34m\u001b[0m\u001b[0;34m\u001b[0m\u001b[0;34m\u001b[0m\u001b[0m\n\u001b[1;32m      2\u001b[0m \u001b[0;31m#P=C.physx()\u001b[0m\u001b[0;34m\u001b[0m\u001b[0;34m\u001b[0m\u001b[0;34m\u001b[0m\u001b[0m\n\u001b[0;32m----> 3\u001b[0;31m \u001b[0mP\u001b[0m\u001b[0;34m=\u001b[0m\u001b[0mC\u001b[0m\u001b[0;34m.\u001b[0m\u001b[0mbullet\u001b[0m\u001b[0;34m(\u001b[0m\u001b[0;34m)\u001b[0m\u001b[0;34m\u001b[0m\u001b[0;34m\u001b[0m\u001b[0m\n\u001b[0m",
      "\u001b[0;31mAttributeError\u001b[0m: 'libry.Config' object has no attribute 'bullet'"
     ]
    }
   ],
   "source": [
    "# this fails, if the lib was not compiled with bullet (comment #BULLET=0 in config.mk)\n",
    "#P=C.physx()\n",
    "P=C.bullet()"
   ]
  },
  {
   "cell_type": "code",
   "execution_count": null,
   "metadata": {},
   "outputs": [],
   "source": [
    "x = C.getFrameState('finger')\n",
    "for i in range(1,100):\n",
    "    x[0] -= .01\n",
    "    C.setFrameState(x, ['finger'])\n",
    "    P.step(C)\n",
    "    sleep(0.01)"
   ]
  },
  {
   "cell_type": "code",
   "execution_count": null,
   "metadata": {},
   "outputs": [],
   "source": [
    "V = P.getState(C)\n",
    "X = C.getFrameState()"
   ]
  },
  {
   "cell_type": "code",
   "execution_count": null,
   "metadata": {},
   "outputs": [],
   "source": [
    "#run this cell multiple times! It resets bullet always to the same state\n",
    "C.setFrameState(X)\n",
    "x = C.getFrameState('finger')\n",
    "P.setState(C,V)\n",
    "for i in range(1,100):\n",
    "    x[0] -= .01\n",
    "    C.setFrameState(x, ['finger'])\n",
    "    P.step(C)\n",
    "    sleep(0.01)"
   ]
  },
  {
   "cell_type": "code",
   "execution_count": null,
   "metadata": {},
   "outputs": [],
   "source": [
    "P=0\n",
    "D=0\n",
    "C=0"
   ]
  },
  {
   "cell_type": "code",
   "execution_count": null,
   "metadata": {},
   "outputs": [],
   "source": []
  }
 ],
 "metadata": {
  "kernelspec": {
   "display_name": "Python 3 (ipykernel)",
   "language": "python",
   "name": "python3"
  },
  "language_info": {
   "codemirror_mode": {
    "name": "ipython",
    "version": 3
   },
   "file_extension": ".py",
   "mimetype": "text/x-python",
   "name": "python",
   "nbconvert_exporter": "python",
   "pygments_lexer": "ipython3",
   "version": "3.8.10"
  }
 },
 "nbformat": 4,
 "nbformat_minor": 2
}
